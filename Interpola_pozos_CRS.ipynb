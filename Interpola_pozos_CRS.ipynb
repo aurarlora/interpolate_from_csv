{
 "cells": [
  {
   "cell_type": "code",
   "execution_count": 1,
   "id": "3f50d5aa-4c79-4284-91e2-61324029efe6",
   "metadata": {},
   "outputs": [],
   "source": [
    "import os\n",
    "import subprocess\n",
    "import pandas as pd\n",
    "import rasterio\n",
    "import matplotlib.pyplot as plt\n",
    "import geopandas as gpd\n",
    "from shapely.ops import unary_union"
   ]
  },
  {
   "cell_type": "code",
   "execution_count": 2,
   "id": "756b5e0d-1034-4a29-b973-915bd44045ef",
   "metadata": {},
   "outputs": [],
   "source": [
    "# 📂 Rutas\n",
    "ruta_csv = r\"C:/Proyectos/2024/Conejos/mapas/pozos.csv\"\n",
    "ruta_salida = r\"C:/Proyectos/2024/Conejos/mapas/interpolados\"\n",
    "os.makedirs(ruta_salida, exist_ok=True)"
   ]
  },
  {
   "cell_type": "code",
   "execution_count": 3,
   "id": "81f5c206-d60e-434a-a5d5-6cfade232f95",
   "metadata": {},
   "outputs": [
    {
     "data": {
      "text/plain": [
       "CompletedProcess(args=['gdal_grid', '--version'], returncode=0)"
      ]
     },
     "execution_count": 3,
     "metadata": {},
     "output_type": "execute_result"
    }
   ],
   "source": [
    "os.environ[\"PATH\"] += r\";C:\\OSGeo4W\\bin\"\n",
    "subprocess.run([\"gdal_grid\", \"--version\"])"
   ]
  },
  {
   "cell_type": "code",
   "execution_count": 4,
   "id": "6a9d40e4-50e1-4b57-85a3-88f6bc155684",
   "metadata": {},
   "outputs": [],
   "source": [
    "# 📌 Ruta del ejecutable de gdal_grid\n",
    "gdal_grid_exe = r\"C:\\OSGeo4W\\bin\\gdal_grid.exe\""
   ]
  },
  {
   "cell_type": "code",
   "execution_count": 5,
   "id": "90cac833-133c-40b9-95e7-1360b27bc660",
   "metadata": {},
   "outputs": [],
   "source": [
    "# 📌 Configuración\n",
    "campo_x = \"x_nad27\"\n",
    "campo_y = \"y_nad27\"\n",
    "años_validos = [2005, 2006, 2007, 2009, 2010, 2011, 2012, 2015, 2016, 2017, 2018] ##"
   ]
  },
  {
   "cell_type": "code",
   "execution_count": 6,
   "id": "0d3b4055-f944-445f-81ae-63009c8e3536",
   "metadata": {},
   "outputs": [],
   "source": [
    "# 📥 Leer CSV con Pandas\n",
    "df = pd.read_csv(ruta_csv)"
   ]
  },
  {
   "cell_type": "code",
   "execution_count": 7,
   "id": "d0331380-f004-4f12-94f4-68d509f4372c",
   "metadata": {},
   "outputs": [
    {
     "name": "stdout",
     "output_type": "stream",
     "text": [
      "🐍\n",
      "CRS límite: EPSG:26713\n"
     ]
    }
   ],
   "source": [
    "# 1) Límite en 26713\n",
    "gdf_limite = gpd.read_file('C:/Proyectos/2024/Conejos/mapas/aol_conejos.shp').to_crs(epsg=26713)\n",
    "print (\"\\U0001F40D\")\n",
    "# Verificamos proyecciones\n",
    "print(\"CRS límite:\", gdf_limite.crs)"
   ]
  },
  {
   "cell_type": "code",
   "execution_count": 15,
   "id": "679023ab-a42e-4883-a017-2561e13f5a97",
   "metadata": {},
   "outputs": [
    {
     "name": "stdout",
     "output_type": "stream",
     "text": [
      "Bounds con buffer: 281035.2291087191 3408589.12309631 361971.7835115908 3518366.062258497\n"
     ]
    }
   ],
   "source": [
    "minx, miny, maxx, maxy = gdf_limite.total_bounds\n",
    "print(\"Bounds con buffer:\", minx, miny, maxx, maxy)  # <-- verifica que cambian"
   ]
  },
  {
   "cell_type": "code",
   "execution_count": 21,
   "id": "ff2b2bce-bb12-48e7-8540-1c700e53610a",
   "metadata": {},
   "outputs": [
    {
     "name": "stdout",
     "output_type": "stream",
     "text": [
      "Bounds con buffer: 279036.3497009068 3406589.2008453473 363970.6403670179 3520365.6544953054\n",
      "🐍\n"
     ]
    }
   ],
   "source": [
    "# 2) Buffer de 2 km (ajusta a tu gusto)\n",
    "buffer_m = 2000\n",
    "# 3) Bounds del buffer\n",
    "minx, miny, maxx, maxy = gdf_limite.buffer(buffer_m).total_bounds\n",
    "print(\"Bounds con buffer:\", minx, miny, maxx, maxy)  # <-- verifica que cambian\n",
    "res = 500  # metros/píxel\n",
    "\n",
    "\n",
    "print (\"\\U0001F40D\")"
   ]
  },
  {
   "cell_type": "code",
   "execution_count": 22,
   "id": "524969cc-9183-4ccb-82e7-eba37002ba76",
   "metadata": {},
   "outputs": [
    {
     "name": "stdout",
     "output_type": "stream",
     "text": [
      "🔹 Ejecutando: gdal_grid -a invdist:power=2.0:smoothing=0.0 -txe 279036.3497009068 363970.6403670179 -tye 3406589.2008453473 3520365.6544953054 -tr 500 500 -zfield val_2005 -oo X_POSSIBLE_NAMES=x_nad27 -oo Y_POSSIBLE_NAMES=y_nad27 -a_srs +proj=utm +zone=13 +datum=NAD27 +units=m +no_defs -of GTiff CSV:C:/Proyectos/2024/Conejos/mapas/interpolados\\temp_2005.csv C:/Proyectos/2024/Conejos/mapas/interpolados\\nivel_2005.tif\n",
      "✅ Guardado: C:/Proyectos/2024/Conejos/mapas/interpolados\\nivel_2005.tif\n",
      "🔹 Ejecutando: gdal_grid -a invdist:power=2.0:smoothing=0.0 -txe 279036.3497009068 363970.6403670179 -tye 3406589.2008453473 3520365.6544953054 -tr 500 500 -zfield val_2006 -oo X_POSSIBLE_NAMES=x_nad27 -oo Y_POSSIBLE_NAMES=y_nad27 -a_srs +proj=utm +zone=13 +datum=NAD27 +units=m +no_defs -of GTiff CSV:C:/Proyectos/2024/Conejos/mapas/interpolados\\temp_2006.csv C:/Proyectos/2024/Conejos/mapas/interpolados\\nivel_2006.tif\n",
      "✅ Guardado: C:/Proyectos/2024/Conejos/mapas/interpolados\\nivel_2006.tif\n",
      "🔹 Ejecutando: gdal_grid -a invdist:power=2.0:smoothing=0.0 -txe 279036.3497009068 363970.6403670179 -tye 3406589.2008453473 3520365.6544953054 -tr 500 500 -zfield val_2007 -oo X_POSSIBLE_NAMES=x_nad27 -oo Y_POSSIBLE_NAMES=y_nad27 -a_srs +proj=utm +zone=13 +datum=NAD27 +units=m +no_defs -of GTiff CSV:C:/Proyectos/2024/Conejos/mapas/interpolados\\temp_2007.csv C:/Proyectos/2024/Conejos/mapas/interpolados\\nivel_2007.tif\n",
      "✅ Guardado: C:/Proyectos/2024/Conejos/mapas/interpolados\\nivel_2007.tif\n",
      "🔹 Ejecutando: gdal_grid -a invdist:power=2.0:smoothing=0.0 -txe 279036.3497009068 363970.6403670179 -tye 3406589.2008453473 3520365.6544953054 -tr 500 500 -zfield val_2009 -oo X_POSSIBLE_NAMES=x_nad27 -oo Y_POSSIBLE_NAMES=y_nad27 -a_srs +proj=utm +zone=13 +datum=NAD27 +units=m +no_defs -of GTiff CSV:C:/Proyectos/2024/Conejos/mapas/interpolados\\temp_2009.csv C:/Proyectos/2024/Conejos/mapas/interpolados\\nivel_2009.tif\n",
      "✅ Guardado: C:/Proyectos/2024/Conejos/mapas/interpolados\\nivel_2009.tif\n",
      "🔹 Ejecutando: gdal_grid -a invdist:power=2.0:smoothing=0.0 -txe 279036.3497009068 363970.6403670179 -tye 3406589.2008453473 3520365.6544953054 -tr 500 500 -zfield val_2010 -oo X_POSSIBLE_NAMES=x_nad27 -oo Y_POSSIBLE_NAMES=y_nad27 -a_srs +proj=utm +zone=13 +datum=NAD27 +units=m +no_defs -of GTiff CSV:C:/Proyectos/2024/Conejos/mapas/interpolados\\temp_2010.csv C:/Proyectos/2024/Conejos/mapas/interpolados\\nivel_2010.tif\n",
      "✅ Guardado: C:/Proyectos/2024/Conejos/mapas/interpolados\\nivel_2010.tif\n",
      "🔹 Ejecutando: gdal_grid -a invdist:power=2.0:smoothing=0.0 -txe 279036.3497009068 363970.6403670179 -tye 3406589.2008453473 3520365.6544953054 -tr 500 500 -zfield val_2011 -oo X_POSSIBLE_NAMES=x_nad27 -oo Y_POSSIBLE_NAMES=y_nad27 -a_srs +proj=utm +zone=13 +datum=NAD27 +units=m +no_defs -of GTiff CSV:C:/Proyectos/2024/Conejos/mapas/interpolados\\temp_2011.csv C:/Proyectos/2024/Conejos/mapas/interpolados\\nivel_2011.tif\n",
      "✅ Guardado: C:/Proyectos/2024/Conejos/mapas/interpolados\\nivel_2011.tif\n",
      "🔹 Ejecutando: gdal_grid -a invdist:power=2.0:smoothing=0.0 -txe 279036.3497009068 363970.6403670179 -tye 3406589.2008453473 3520365.6544953054 -tr 500 500 -zfield val_2012 -oo X_POSSIBLE_NAMES=x_nad27 -oo Y_POSSIBLE_NAMES=y_nad27 -a_srs +proj=utm +zone=13 +datum=NAD27 +units=m +no_defs -of GTiff CSV:C:/Proyectos/2024/Conejos/mapas/interpolados\\temp_2012.csv C:/Proyectos/2024/Conejos/mapas/interpolados\\nivel_2012.tif\n",
      "✅ Guardado: C:/Proyectos/2024/Conejos/mapas/interpolados\\nivel_2012.tif\n",
      "🔹 Ejecutando: gdal_grid -a invdist:power=2.0:smoothing=0.0 -txe 279036.3497009068 363970.6403670179 -tye 3406589.2008453473 3520365.6544953054 -tr 500 500 -zfield val_2015 -oo X_POSSIBLE_NAMES=x_nad27 -oo Y_POSSIBLE_NAMES=y_nad27 -a_srs +proj=utm +zone=13 +datum=NAD27 +units=m +no_defs -of GTiff CSV:C:/Proyectos/2024/Conejos/mapas/interpolados\\temp_2015.csv C:/Proyectos/2024/Conejos/mapas/interpolados\\nivel_2015.tif\n",
      "✅ Guardado: C:/Proyectos/2024/Conejos/mapas/interpolados\\nivel_2015.tif\n",
      "🔹 Ejecutando: gdal_grid -a invdist:power=2.0:smoothing=0.0 -txe 279036.3497009068 363970.6403670179 -tye 3406589.2008453473 3520365.6544953054 -tr 500 500 -zfield val_2016 -oo X_POSSIBLE_NAMES=x_nad27 -oo Y_POSSIBLE_NAMES=y_nad27 -a_srs +proj=utm +zone=13 +datum=NAD27 +units=m +no_defs -of GTiff CSV:C:/Proyectos/2024/Conejos/mapas/interpolados\\temp_2016.csv C:/Proyectos/2024/Conejos/mapas/interpolados\\nivel_2016.tif\n",
      "✅ Guardado: C:/Proyectos/2024/Conejos/mapas/interpolados\\nivel_2016.tif\n",
      "🔹 Ejecutando: gdal_grid -a invdist:power=2.0:smoothing=0.0 -txe 279036.3497009068 363970.6403670179 -tye 3406589.2008453473 3520365.6544953054 -tr 500 500 -zfield val_2017 -oo X_POSSIBLE_NAMES=x_nad27 -oo Y_POSSIBLE_NAMES=y_nad27 -a_srs +proj=utm +zone=13 +datum=NAD27 +units=m +no_defs -of GTiff CSV:C:/Proyectos/2024/Conejos/mapas/interpolados\\temp_2017.csv C:/Proyectos/2024/Conejos/mapas/interpolados\\nivel_2017.tif\n",
      "✅ Guardado: C:/Proyectos/2024/Conejos/mapas/interpolados\\nivel_2017.tif\n",
      "🔹 Ejecutando: gdal_grid -a invdist:power=2.0:smoothing=0.0 -txe 279036.3497009068 363970.6403670179 -tye 3406589.2008453473 3520365.6544953054 -tr 500 500 -zfield val_2018 -oo X_POSSIBLE_NAMES=x_nad27 -oo Y_POSSIBLE_NAMES=y_nad27 -a_srs +proj=utm +zone=13 +datum=NAD27 +units=m +no_defs -of GTiff CSV:C:/Proyectos/2024/Conejos/mapas/interpolados\\temp_2018.csv C:/Proyectos/2024/Conejos/mapas/interpolados\\nivel_2018.tif\n",
      "✅ Guardado: C:/Proyectos/2024/Conejos/mapas/interpolados\\nivel_2018.tif\n"
     ]
    }
   ],
   "source": [
    "for anio in años_validos:\n",
    "    campo_valor = str(anio)\n",
    "\n",
    "    datos = df[\n",
    "        df[\"x_nad27\"].notna() &\n",
    "        df[\"y_nad27\"].notna() &\n",
    "        df[campo_valor].notna()\n",
    "    ][[\"x_nad27\", \"y_nad27\", campo_valor]]\n",
    "\n",
    "    if len(datos) < 3:\n",
    "        print(f\"⚠️ Solo {len(datos)} valores válidos para {campo_valor}, se omite.\")\n",
    "        continue\n",
    "\n",
    "    # Renombrar la columna de valores para que GDAL la acepte\n",
    "    col_z = f\"val_{campo_valor}\"\n",
    "    datos = datos.rename(columns={campo_valor: col_z})\n",
    "\n",
    "    # # Calcular límites\n",
    "    # min_x, max_x = datos[\"x_nad27\"].min(), datos[\"x_nad27\"].max()\n",
    "    # min_y, max_y = datos[\"y_nad27\"].min(), datos[\"y_nad27\"].max()\n",
    "\n",
    "    # Guardar CSV temporal limpio\n",
    "    temp_csv = os.path.join(ruta_salida, f\"temp_{campo_valor}.csv\")\n",
    "    datos.to_csv(temp_csv, index=False)\n",
    "\n",
    "    salida_raster = os.path.join(ruta_salida, f\"nivel_{campo_valor}.tif\")\n",
    "\n",
    "    # Comando GDAL\n",
    "    comando = [\n",
    "        \"gdal_grid\",\n",
    "        # \"-overwrite\",  # asegura que reemplace el tif\n",
    "        \"-a\", \"invdist:power=2.0:smoothing=0.0\",\n",
    "        \"-txe\", str(minx), str(maxx),\n",
    "        \"-tye\", str(miny), str(maxy),  # <-- ymin, ymax\n",
    "        \"-tr\", str(res), str(res),       # resolución fija en 500 m\n",
    "        \"-zfield\", col_z,\n",
    "        \"-oo\", \"X_POSSIBLE_NAMES=x_nad27\",\n",
    "        \"-oo\", \"Y_POSSIBLE_NAMES=y_nad27\",\n",
    "        \"-a_srs\", \"+proj=utm +zone=13 +datum=NAD27 +units=m +no_defs\",  # 👈 aquí  \n",
    "        \"-of\", \"GTiff\",\n",
    "        f\"CSV:{temp_csv}\",\n",
    "        salida_raster\n",
    "    ]\n",
    "\n",
    "    print(f\"🔹 Ejecutando: {' '.join(comando)}\")\n",
    "    result = subprocess.run(comando, capture_output=True, text=True)\n",
    "\n",
    "    if result.returncode != 0:\n",
    "        print(f\"⚠️ Error con {campo_valor}\")\n",
    "        print(\"STDOUT:\", result.stdout.strip())\n",
    "        print(\"STDERR:\", result.stderr.strip())\n",
    "    else:\n",
    "        print(f\"✅ Guardado: {salida_raster}\")\n"
   ]
  },
  {
   "cell_type": "code",
   "execution_count": null,
   "id": "71318743-8e6a-4a93-a333-b6f24298bc7b",
   "metadata": {},
   "outputs": [],
   "source": []
  },
  {
   "cell_type": "code",
   "execution_count": null,
   "id": "12ae98dd-9514-4b44-b95a-feef72f8d2c8",
   "metadata": {},
   "outputs": [],
   "source": []
  }
 ],
 "metadata": {
  "kernelspec": {
   "display_name": "Python 3 (ipykernel)",
   "language": "python",
   "name": "python3"
  },
  "language_info": {
   "codemirror_mode": {
    "name": "ipython",
    "version": 3
   },
   "file_extension": ".py",
   "mimetype": "text/x-python",
   "name": "python",
   "nbconvert_exporter": "python",
   "pygments_lexer": "ipython3",
   "version": "3.12.4"
  }
 },
 "nbformat": 4,
 "nbformat_minor": 5
}
